{
 "cells": [
  {
   "cell_type": "markdown",
   "metadata": {
    "id": "Ri3K11KLOHNJ"
   },
   "source": [
    "Author: Jonathan Ibifubara Pollyn                                                                                           \n",
    "Course: DSC-540                                                                                                             \n",
    "Assignment: Support Vector Machine Regressor                                                           "
   ]
  },
  {
   "cell_type": "code",
   "execution_count": 1,
   "metadata": {
    "id": "x-z5k7lcOHNS"
   },
   "outputs": [],
   "source": [
    "#Importing the requried packages\n",
    "import pandas as pd\n",
    "import numpy as np\n",
    "from sklearn.svm import SVR\n",
    "from sklearn.model_selection import GridSearchCV\n",
    "from sklearn.metrics import mean_squared_error"
   ]
  },
  {
   "cell_type": "markdown",
   "metadata": {
    "id": "RXqbLCYNOHNU"
   },
   "source": [
    "Generate 50 data points from this function in the range [– 3, 3]. "
   ]
  },
  {
   "cell_type": "code",
   "execution_count": null,
   "metadata": {
    "id": "QmjAoDfpOHNV"
   },
   "outputs": [],
   "source": [
    "f = lambda x:np.sin(np.pi*x)/(np.pi*x)\n",
    "\n",
    "x = np.linspace(-3,3,50)"
   ]
  },
  {
   "cell_type": "markdown",
   "metadata": {
    "id": "vn2aZgfvOHNV"
   },
   "source": [
    "Add Gaussian noise to the data"
   ]
  },
  {
   "cell_type": "code",
   "execution_count": null,
   "metadata": {
    "id": "YiU_WhLVOHNW"
   },
   "outputs": [],
   "source": [
    "y = f(x) + np.random.normal(0,0.9,len(x))\n",
    "\n",
    "df = pd.DataFrame({'x':x, 'y':y})"
   ]
  },
  {
   "cell_type": "code",
   "execution_count": null,
   "metadata": {
    "id": "a10cxhWUOHNX",
    "outputId": "cf6e3970-d282-43db-c1f8-4b8e7d45361d"
   },
   "outputs": [
    {
     "data": {
      "text/html": [
       "<div>\n",
       "<style scoped>\n",
       "    .dataframe tbody tr th:only-of-type {\n",
       "        vertical-align: middle;\n",
       "    }\n",
       "\n",
       "    .dataframe tbody tr th {\n",
       "        vertical-align: top;\n",
       "    }\n",
       "\n",
       "    .dataframe thead th {\n",
       "        text-align: right;\n",
       "    }\n",
       "</style>\n",
       "<table border=\"1\" class=\"dataframe\">\n",
       "  <thead>\n",
       "    <tr style=\"text-align: right;\">\n",
       "      <th></th>\n",
       "      <th>x</th>\n",
       "      <th>y</th>\n",
       "    </tr>\n",
       "  </thead>\n",
       "  <tbody>\n",
       "    <tr>\n",
       "      <th>0</th>\n",
       "      <td>-3.000000</td>\n",
       "      <td>-0.987897</td>\n",
       "    </tr>\n",
       "    <tr>\n",
       "      <th>1</th>\n",
       "      <td>-2.877551</td>\n",
       "      <td>1.201214</td>\n",
       "    </tr>\n",
       "    <tr>\n",
       "      <th>2</th>\n",
       "      <td>-2.755102</td>\n",
       "      <td>-1.690335</td>\n",
       "    </tr>\n",
       "    <tr>\n",
       "      <th>3</th>\n",
       "      <td>-2.632653</td>\n",
       "      <td>0.005651</td>\n",
       "    </tr>\n",
       "    <tr>\n",
       "      <th>4</th>\n",
       "      <td>-2.510204</td>\n",
       "      <td>-0.487576</td>\n",
       "    </tr>\n",
       "  </tbody>\n",
       "</table>\n",
       "</div>"
      ],
      "text/plain": [
       "          x         y\n",
       "0 -3.000000 -0.987897\n",
       "1 -2.877551  1.201214\n",
       "2 -2.755102 -1.690335\n",
       "3 -2.632653  0.005651\n",
       "4 -2.510204 -0.487576"
      ]
     },
     "execution_count": 10,
     "metadata": {},
     "output_type": "execute_result"
    }
   ],
   "source": [
    "df.head()"
   ]
  },
  {
   "cell_type": "markdown",
   "metadata": {
    "id": "Dt9LJAKKOHNZ"
   },
   "source": [
    "Train an SVM regressor with the data generated"
   ]
  },
  {
   "cell_type": "code",
   "execution_count": null,
   "metadata": {
    "id": "B_yyQe5NOHNa"
   },
   "outputs": [],
   "source": [
    "from sklearn.model_selection import train_test_split\n",
    "\n",
    "X_train,X_test,y_train,y_test=train_test_split(df['x'],df['y'] , test_size=0.2)"
   ]
  },
  {
   "cell_type": "code",
   "execution_count": null,
   "metadata": {
    "id": "Dm3XcC1kOHNb",
    "outputId": "dd91981e-e079-489a-b2e3-ebc1c269c7a3"
   },
   "outputs": [
    {
     "data": {
      "text/plain": [
       "1.5819356013390855"
      ]
     },
     "execution_count": 44,
     "metadata": {},
     "output_type": "execute_result"
    }
   ],
   "source": [
    "parameter_for_SVR = [{'kernel': ['rbf'], 'gamma': [1e-5, 1e-2, 0.01, 0.1, 0.2, 0.6, 0.9, 1.2],'C': [1, 10, 100, 1000, 10000]}]\n",
    "\n",
    "svr = GridSearchCV(SVR(), parameter_for_SVR, cv = 6)\n",
    "y_pred_test = svr.fit(np.array(X_train).reshape(-1,1), y_train).predict(np.array(X_test).reshape(-1,1))\n",
    "\n",
    "mse = mean_squared_error(y_test,y_pred_test)\n",
    "mse"
   ]
  }
 ],
 "metadata": {
  "colab": {
   "collapsed_sections": [],
   "name": "Expertsmind.ipynb",
   "provenance": []
  },
  "kernelspec": {
   "display_name": "Python 3",
   "language": "python",
   "name": "python3"
  },
  "language_info": {
   "codemirror_mode": {
    "name": "ipython",
    "version": 3
   },
   "file_extension": ".py",
   "mimetype": "text/x-python",
   "name": "python",
   "nbconvert_exporter": "python",
   "pygments_lexer": "ipython3",
   "version": "3.8.8"
  },
  "toc": {
   "base_numbering": 1,
   "nav_menu": {},
   "number_sections": true,
   "sideBar": true,
   "skip_h1_title": false,
   "title_cell": "Table of Contents",
   "title_sidebar": "Contents",
   "toc_cell": false,
   "toc_position": {},
   "toc_section_display": true,
   "toc_window_display": false
  }
 },
 "nbformat": 4,
 "nbformat_minor": 1
}
