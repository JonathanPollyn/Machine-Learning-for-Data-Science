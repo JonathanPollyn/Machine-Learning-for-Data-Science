{
 "cells": [
  {
   "cell_type": "markdown",
   "id": "2e80211f",
   "metadata": {},
   "source": [
    "Author: Jonathan Ibifubara Pollyn                                                                                          \n",
    "Course: DSC-540                                                                                                           \n",
    "Assignment: Image Classifier                                                                                                \n",
    "Description: tasked to build an image classifier for the MNIST dataset of handwritten numbers, implementing the k-nearest neighbors (k-NN) algorithm."
   ]
  },
  {
   "cell_type": "code",
   "execution_count": 1,
   "id": "64122697",
   "metadata": {},
   "outputs": [
    {
     "name": "stdout",
     "output_type": "stream",
     "text": [
      "Requirement already satisfied: keras in c:\\anaconda\\lib\\site-packages (2.7.0)\n",
      "Note: you may need to restart the kernel to use updated packages.\n"
     ]
    }
   ],
   "source": [
    "pip install keras"
   ]
  },
  {
   "cell_type": "code",
   "execution_count": 11,
   "id": "ce93926c",
   "metadata": {},
   "outputs": [
    {
     "name": "stdout",
     "output_type": "stream",
     "text": [
      "Collecting tensorflow\n",
      "  Downloading tensorflow-2.7.0-cp38-cp38-win_amd64.whl (430.8 MB)\n",
      "Collecting libclang>=9.0.1\n",
      "  Downloading libclang-12.0.0-py2.py3-none-win_amd64.whl (13.1 MB)\n",
      "Collecting protobuf>=3.9.2\n",
      "  Downloading protobuf-3.19.1-cp38-cp38-win_amd64.whl (895 kB)\n",
      "Collecting grpcio<2.0,>=1.24.3\n",
      "  Downloading grpcio-1.41.1-cp38-cp38-win_amd64.whl (3.2 MB)\n",
      "Collecting tensorboard~=2.6\n",
      "  Downloading tensorboard-2.7.0-py3-none-any.whl (5.8 MB)\n",
      "Collecting absl-py>=0.4.0\n",
      "  Downloading absl_py-0.15.0-py3-none-any.whl (132 kB)\n",
      "Requirement already satisfied: h5py>=2.9.0 in c:\\anaconda\\lib\\site-packages (from tensorflow) (2.10.0)\n",
      "Collecting opt-einsum>=2.3.2\n",
      "  Downloading opt_einsum-3.3.0-py3-none-any.whl (65 kB)\n",
      "Collecting termcolor>=1.1.0\n",
      "  Downloading termcolor-1.1.0.tar.gz (3.9 kB)\n",
      "Requirement already satisfied: wheel<1.0,>=0.32.0 in c:\\anaconda\\lib\\site-packages (from tensorflow) (0.36.2)\n",
      "Collecting google-pasta>=0.1.1\n",
      "  Downloading google_pasta-0.2.0-py3-none-any.whl (57 kB)\n",
      "Requirement already satisfied: wrapt>=1.11.0 in c:\\users\\jonathan pollyn\\appdata\\roaming\\python\\python38\\site-packages (from tensorflow) (1.12.1)\n",
      "Requirement already satisfied: numpy>=1.14.5 in c:\\anaconda\\lib\\site-packages (from tensorflow) (1.20.1)\n",
      "Collecting tensorflow-io-gcs-filesystem>=0.21.0\n",
      "  Downloading tensorflow_io_gcs_filesystem-0.21.0-cp38-cp38-win_amd64.whl (1.5 MB)\n",
      "Requirement already satisfied: typing-extensions>=3.6.6 in c:\\anaconda\\lib\\site-packages (from tensorflow) (3.7.4.3)\n",
      "Collecting gast<0.5.0,>=0.2.1\n",
      "  Downloading gast-0.4.0-py3-none-any.whl (9.8 kB)\n",
      "Collecting tensorflow-estimator<2.8,~=2.7.0rc0\n",
      "  Downloading tensorflow_estimator-2.7.0-py2.py3-none-any.whl (463 kB)\n",
      "Collecting keras-preprocessing>=1.1.1\n",
      "  Downloading Keras_Preprocessing-1.1.2-py2.py3-none-any.whl (42 kB)\n",
      "Collecting flatbuffers<3.0,>=1.12\n",
      "  Downloading flatbuffers-2.0-py2.py3-none-any.whl (26 kB)\n",
      "Requirement already satisfied: six>=1.12.0 in c:\\users\\jonathan pollyn\\appdata\\roaming\\python\\python38\\site-packages (from tensorflow) (1.14.0)\n",
      "Collecting astunparse>=1.6.0\n",
      "  Downloading astunparse-1.6.3-py2.py3-none-any.whl (12 kB)\n",
      "Requirement already satisfied: keras<2.8,>=2.7.0rc0 in c:\\anaconda\\lib\\site-packages (from tensorflow) (2.7.0)\n",
      "Collecting google-auth-oauthlib<0.5,>=0.4.1\n",
      "  Downloading google_auth_oauthlib-0.4.6-py2.py3-none-any.whl (18 kB)\n",
      "Requirement already satisfied: werkzeug>=0.11.15 in c:\\anaconda\\lib\\site-packages (from tensorboard~=2.6->tensorflow) (1.0.1)\n",
      "Requirement already satisfied: requests<3,>=2.21.0 in c:\\anaconda\\lib\\site-packages (from tensorboard~=2.6->tensorflow) (2.25.1)\n",
      "Requirement already satisfied: setuptools>=41.0.0 in c:\\anaconda\\lib\\site-packages (from tensorboard~=2.6->tensorflow) (52.0.0.post20210125)\n",
      "Collecting tensorboard-data-server<0.7.0,>=0.6.0\n",
      "  Downloading tensorboard_data_server-0.6.1-py3-none-any.whl (2.4 kB)\n",
      "Collecting google-auth<3,>=1.6.3\n",
      "  Downloading google_auth-2.3.3-py2.py3-none-any.whl (155 kB)\n",
      "Collecting markdown>=2.6.8\n",
      "  Downloading Markdown-3.3.4-py3-none-any.whl (97 kB)\n",
      "Collecting tensorboard-plugin-wit>=1.6.0\n",
      "  Downloading tensorboard_plugin_wit-1.8.0-py3-none-any.whl (781 kB)\n",
      "Collecting rsa<5,>=3.1.4\n",
      "  Downloading rsa-4.7.2-py3-none-any.whl (34 kB)\n",
      "Collecting pyasn1-modules>=0.2.1\n",
      "  Downloading pyasn1_modules-0.2.8-py2.py3-none-any.whl (155 kB)\n",
      "Collecting cachetools<5.0,>=2.0.0\n",
      "  Downloading cachetools-4.2.4-py3-none-any.whl (10 kB)\n",
      "Collecting requests-oauthlib>=0.7.0\n",
      "  Downloading requests_oauthlib-1.3.0-py2.py3-none-any.whl (23 kB)\n",
      "Collecting pyasn1<0.5.0,>=0.4.6\n",
      "  Downloading pyasn1-0.4.8-py2.py3-none-any.whl (77 kB)\n",
      "Requirement already satisfied: urllib3<1.27,>=1.21.1 in c:\\anaconda\\lib\\site-packages (from requests<3,>=2.21.0->tensorboard~=2.6->tensorflow) (1.26.4)\n",
      "Requirement already satisfied: certifi>=2017.4.17 in c:\\anaconda\\lib\\site-packages (from requests<3,>=2.21.0->tensorboard~=2.6->tensorflow) (2020.12.5)\n",
      "Requirement already satisfied: chardet<5,>=3.0.2 in c:\\anaconda\\lib\\site-packages (from requests<3,>=2.21.0->tensorboard~=2.6->tensorflow) (4.0.0)\n",
      "Requirement already satisfied: idna<3,>=2.5 in c:\\anaconda\\lib\\site-packages (from requests<3,>=2.21.0->tensorboard~=2.6->tensorflow) (2.10)\n",
      "Collecting oauthlib>=3.0.0\n",
      "  Downloading oauthlib-3.1.1-py2.py3-none-any.whl (146 kB)\n",
      "Building wheels for collected packages: termcolor\n",
      "  Building wheel for termcolor (setup.py): started\n",
      "  Building wheel for termcolor (setup.py): finished with status 'done'\n",
      "  Created wheel for termcolor: filename=termcolor-1.1.0-py3-none-any.whl size=4829 sha256=75c209ae22a1a6160ca5293c5d01ca5c40e5985c0b90b5cce5fb567c4ddde787\n",
      "  Stored in directory: c:\\users\\jonathan pollyn\\appdata\\local\\pip\\cache\\wheels\\a0\\16\\9c\\5473df82468f958445479c59e784896fa24f4a5fc024b0f501\n",
      "Successfully built termcolor\n",
      "Installing collected packages: pyasn1, rsa, pyasn1-modules, oauthlib, cachetools, requests-oauthlib, google-auth, tensorboard-plugin-wit, tensorboard-data-server, protobuf, markdown, grpcio, google-auth-oauthlib, absl-py, termcolor, tensorflow-io-gcs-filesystem, tensorflow-estimator, tensorboard, opt-einsum, libclang, keras-preprocessing, google-pasta, gast, flatbuffers, astunparse, tensorflow\n",
      "Successfully installed absl-py-0.15.0 astunparse-1.6.3 cachetools-4.2.4 flatbuffers-2.0 gast-0.4.0 google-auth-2.3.3 google-auth-oauthlib-0.4.6 google-pasta-0.2.0 grpcio-1.41.1 keras-preprocessing-1.1.2 libclang-12.0.0 markdown-3.3.4 oauthlib-3.1.1 opt-einsum-3.3.0 protobuf-3.19.1 pyasn1-0.4.8 pyasn1-modules-0.2.8 requests-oauthlib-1.3.0 rsa-4.7.2 tensorboard-2.7.0 tensorboard-data-server-0.6.1 tensorboard-plugin-wit-1.8.0 tensorflow-2.7.0 tensorflow-estimator-2.7.0 tensorflow-io-gcs-filesystem-0.21.0 termcolor-1.1.0\n"
     ]
    }
   ],
   "source": [
    "import sys\n",
    "\n",
    "!$sys.executable -m pip install tensorflow"
   ]
  },
  {
   "cell_type": "code",
   "execution_count": 3,
   "id": "e8ec9633",
   "metadata": {},
   "outputs": [],
   "source": [
    "#loading the required libraries\n",
    "import numpy as np\n",
    "import matplotlib.pyplot as plt\n",
    "from sklearn.preprocessing import LabelBinarizer\n",
    "from keras.datasets import mnist\n",
    "from keras.models import Sequential\n",
    "from keras.layers import Dense\n",
    "from sklearn.neighbors import KNeighborsClassifier\n",
    "from scipy.spatial import distance\n",
    "import math"
   ]
  },
  {
   "cell_type": "code",
   "execution_count": 4,
   "id": "e1d9af35",
   "metadata": {},
   "outputs": [],
   "source": [
    "#Loading MNIST Dataset predictor and reponse variable\n",
    "(x_train, y_train), (x_test, y_test) = mnist.load_data()"
   ]
  },
  {
   "cell_type": "code",
   "execution_count": 5,
   "id": "4665472b",
   "metadata": {},
   "outputs": [
    {
     "name": "stdout",
     "output_type": "stream",
     "text": [
      "x_train: (60000, 28, 28)\n",
      "y_train: (60000,)\n",
      "x_test:  (10000, 28, 28)\n",
      "y_test:  (10000,)\n"
     ]
    }
   ],
   "source": [
    "#Printing the data shapes\n",
    "print('x_train: ' + str(x_train.shape))\n",
    "print('y_train: ' + str(y_train.shape))\n",
    "print('x_test:  '  + str(x_test.shape))\n",
    "print('y_test:  '  + str(y_test.shape))"
   ]
  },
  {
   "cell_type": "code",
   "execution_count": 6,
   "id": "551078b1",
   "metadata": {},
   "outputs": [
    {
     "data": {
      "image/png": "[encoded data removed]",
      "text/plain": [
       "<Figure size 432x288 with 9 Axes>"
      ]
     },
     "metadata": {
      "needs_background": "light"
     },
     "output_type": "display_data"
    }
   ],
   "source": [
    "#Plotting the training dataset \n",
    "for i in range(9):\n",
    "    plt.subplot(330 + 1 + i)\n",
    "    plt.imshow(x_train[i], cmap=plt.get_cmap('gray'))\n",
    "plt.show()"
   ]
  },
  {
   "cell_type": "code",
   "execution_count": 7,
   "id": "e704dd2f",
   "metadata": {},
   "outputs": [
    {
     "data": {
      "image/png": "[encoded data removed]",
      "text/plain": [
       "<Figure size 432x288 with 9 Axes>"
      ]
     },
     "metadata": {
      "needs_background": "light"
     },
     "output_type": "display_data"
    }
   ],
   "source": [
    "#Plotting the test dataset \n",
    "for i in range(9):\n",
    "    plt.subplot(330 + 1 + i)\n",
    "    plt.imshow(x_test[i], cmap=plt.get_cmap('gray'))\n",
    "plt.show()"
   ]
  },
  {
   "cell_type": "code",
   "execution_count": 8,
   "id": "9c54b61f",
   "metadata": {},
   "outputs": [],
   "source": [
    "#Convert the 2D data into 1D data\n",
    "x_train = x_train.reshape(60000, 784)\n",
    "x_test = x_test.reshape(10000, 784)"
   ]
  },
  {
   "cell_type": "code",
   "execution_count": 9,
   "id": "03c58d11",
   "metadata": {},
   "outputs": [],
   "source": [
    "#Convert the target variable to a one-hot vector\n",
    "label_binar = LabelBinarizer()\n",
    "label_binar.fit(range(10))\n",
    "y_train = label_binar.transform(y_train)\n",
    "y_test = label_binar.transform(y_test)"
   ]
  },
  {
   "cell_type": "code",
   "execution_count": 10,
   "id": "66d6bc7f",
   "metadata": {},
   "outputs": [
    {
     "name": "stdout",
     "output_type": "stream",
     "text": [
      "Model: \"sequential\"\n",
      "_________________________________________________________________\n",
      " Layer (type)                Output Shape              Param #   \n",
      "=================================================================\n",
      " dense (Dense)               (None, 32)                25120     \n",
      "                                                                 \n",
      " dense_1 (Dense)             (None, 32)                1056      \n",
      "                                                                 \n",
      " dense_2 (Dense)             (None, 10)                330       \n",
      "                                                                 \n",
      "=================================================================\n",
      "Total params: 26,506\n",
      "Trainable params: 26,506\n",
      "Non-trainable params: 0\n",
      "_________________________________________________________________\n"
     ]
    }
   ],
   "source": [
    "#Create the model\n",
    "model = Sequential()\n",
    "model.add(Dense(units=32, activation='relu', input_dim=784))\n",
    "model.add(Dense(units=32, activation='relu'))\n",
    "model.add(Dense(units=10, activation='softmax'))\n",
    "model.compile(loss='categorical_crossentropy', optimizer='adam', metrics = ['acc'])\n",
    "model.summary()"
   ]
  },
  {
   "cell_type": "code",
   "execution_count": 11,
   "id": "49bd46a3",
   "metadata": {},
   "outputs": [
    {
     "name": "stdout",
     "output_type": "stream",
     "text": [
      "Epoch 1/40\n",
      "1875/1875 [==============================] - 3s 1ms/step - loss: 1.5805 - acc: 0.7386 - val_loss: 0.5162 - val_acc: 0.8575\n",
      "Epoch 2/40\n",
      "1875/1875 [==============================] - 3s 2ms/step - loss: 0.3997 - acc: 0.8906 - val_loss: 0.3258 - val_acc: 0.9086\n",
      "Epoch 3/40\n",
      "1875/1875 [==============================] - 3s 2ms/step - loss: 0.2940 - acc: 0.9184 - val_loss: 0.2522 - val_acc: 0.9287\n",
      "Epoch 4/40\n",
      "1875/1875 [==============================] - 3s 2ms/step - loss: 0.2461 - acc: 0.9314 - val_loss: 0.2571 - val_acc: 0.9265\n",
      "Epoch 5/40\n",
      "1875/1875 [==============================] - 3s 2ms/step - loss: 0.2169 - acc: 0.9393 - val_loss: 0.2124 - val_acc: 0.9426\n",
      "Epoch 6/40\n",
      "1875/1875 [==============================] - 3s 2ms/step - loss: 0.1971 - acc: 0.9450 - val_loss: 0.2095 - val_acc: 0.9436\n",
      "Epoch 7/40\n",
      "1875/1875 [==============================] - 5s 2ms/step - loss: 0.1772 - acc: 0.9504 - val_loss: 0.1919 - val_acc: 0.9474\n",
      "Epoch 8/40\n",
      "1875/1875 [==============================] - 4s 2ms/step - loss: 0.1664 - acc: 0.9529 - val_loss: 0.1835 - val_acc: 0.9495\n",
      "Epoch 9/40\n",
      "1875/1875 [==============================] - 3s 2ms/step - loss: 0.1550 - acc: 0.9552 - val_loss: 0.1881 - val_acc: 0.9514\n",
      "Epoch 10/40\n",
      "1875/1875 [==============================] - 5s 2ms/step - loss: 0.1450 - acc: 0.9590 - val_loss: 0.1847 - val_acc: 0.9531\n",
      "Epoch 11/40\n",
      "1875/1875 [==============================] - 4s 2ms/step - loss: 0.1364 - acc: 0.9615 - val_loss: 0.1928 - val_acc: 0.9503\n",
      "Epoch 12/40\n",
      "1875/1875 [==============================] - 7s 4ms/step - loss: 0.1309 - acc: 0.9637 - val_loss: 0.1993 - val_acc: 0.9499\n",
      "Epoch 13/40\n",
      "1875/1875 [==============================] - 5s 3ms/step - loss: 0.1249 - acc: 0.9646 - val_loss: 0.2135 - val_acc: 0.9450\n",
      "Epoch 14/40\n",
      "1875/1875 [==============================] - 3s 2ms/step - loss: 0.1243 - acc: 0.9647 - val_loss: 0.1911 - val_acc: 0.9524\n",
      "Epoch 15/40\n",
      "1875/1875 [==============================] - 3s 2ms/step - loss: 0.1191 - acc: 0.9665 - val_loss: 0.1765 - val_acc: 0.9583\n",
      "Epoch 16/40\n",
      "1875/1875 [==============================] - 3s 2ms/step - loss: 0.1121 - acc: 0.9681 - val_loss: 0.1796 - val_acc: 0.9565\n",
      "Epoch 17/40\n",
      "1875/1875 [==============================] - 3s 2ms/step - loss: 0.1119 - acc: 0.9689 - val_loss: 0.1789 - val_acc: 0.9564\n",
      "Epoch 18/40\n",
      "1875/1875 [==============================] - 3s 2ms/step - loss: 0.1077 - acc: 0.9690 - val_loss: 0.1812 - val_acc: 0.9560\n",
      "Epoch 19/40\n",
      "1875/1875 [==============================] - 3s 2ms/step - loss: 0.1040 - acc: 0.9708 - val_loss: 0.1829 - val_acc: 0.9552\n",
      "Epoch 20/40\n",
      "1875/1875 [==============================] - 3s 1ms/step - loss: 0.1044 - acc: 0.9709 - val_loss: 0.1933 - val_acc: 0.9534\n",
      "Epoch 21/40\n",
      "1875/1875 [==============================] - 3s 1ms/step - loss: 0.1011 - acc: 0.9714 - val_loss: 0.1991 - val_acc: 0.9569\n",
      "Epoch 22/40\n",
      "1875/1875 [==============================] - 3s 1ms/step - loss: 0.0993 - acc: 0.9729 - val_loss: 0.2117 - val_acc: 0.9530\n",
      "Epoch 23/40\n",
      "1875/1875 [==============================] - 3s 1ms/step - loss: 0.0979 - acc: 0.9724 - val_loss: 0.1890 - val_acc: 0.9559\n",
      "Epoch 24/40\n",
      "1875/1875 [==============================] - 3s 1ms/step - loss: 0.0903 - acc: 0.9752 - val_loss: 0.2162 - val_acc: 0.9552\n",
      "Epoch 25/40\n",
      "1875/1875 [==============================] - 3s 2ms/step - loss: 0.0960 - acc: 0.9726 - val_loss: 0.2087 - val_acc: 0.9522\n",
      "Epoch 26/40\n",
      "1875/1875 [==============================] - 3s 2ms/step - loss: 0.0946 - acc: 0.9741 - val_loss: 0.2066 - val_acc: 0.9534\n",
      "Epoch 27/40\n",
      "1875/1875 [==============================] - 3s 1ms/step - loss: 0.0914 - acc: 0.9743 - val_loss: 0.2145 - val_acc: 0.9542\n",
      "Epoch 28/40\n",
      "1875/1875 [==============================] - 3s 2ms/step - loss: 0.0939 - acc: 0.9750 - val_loss: 0.2207 - val_acc: 0.9551\n",
      "Epoch 29/40\n",
      "1875/1875 [==============================] - 3s 1ms/step - loss: 0.0897 - acc: 0.9748 - val_loss: 0.2196 - val_acc: 0.9563\n",
      "Epoch 30/40\n",
      "1875/1875 [==============================] - 3s 2ms/step - loss: 0.0855 - acc: 0.9754 - val_loss: 0.2342 - val_acc: 0.9533\n",
      "Epoch 31/40\n",
      "1875/1875 [==============================] - 3s 2ms/step - loss: 0.0864 - acc: 0.9758 - val_loss: 0.2105 - val_acc: 0.9564\n",
      "Epoch 32/40\n",
      "1875/1875 [==============================] - 3s 2ms/step - loss: 0.0872 - acc: 0.9763 - val_loss: 0.2250 - val_acc: 0.9555\n",
      "Epoch 33/40\n",
      "1875/1875 [==============================] - 3s 2ms/step - loss: 0.0861 - acc: 0.9754 - val_loss: 0.2470 - val_acc: 0.9542\n",
      "Epoch 34/40\n",
      "1875/1875 [==============================] - 3s 2ms/step - loss: 0.0839 - acc: 0.9761 - val_loss: 0.2253 - val_acc: 0.9570\n",
      "Epoch 35/40\n",
      "1875/1875 [==============================] - 3s 2ms/step - loss: 0.0805 - acc: 0.9770 - val_loss: 0.2575 - val_acc: 0.9519\n",
      "Epoch 36/40\n",
      "1875/1875 [==============================] - 3s 2ms/step - loss: 0.0827 - acc: 0.9770 - val_loss: 0.2284 - val_acc: 0.9595\n",
      "Epoch 37/40\n",
      "1875/1875 [==============================] - 4s 2ms/step - loss: 0.0802 - acc: 0.9771 - val_loss: 0.2801 - val_acc: 0.9530\n",
      "Epoch 38/40\n",
      "1875/1875 [==============================] - 3s 2ms/step - loss: 0.0798 - acc: 0.9779 - val_loss: 0.2467 - val_acc: 0.9573\n",
      "Epoch 39/40\n",
      "1875/1875 [==============================] - 3s 2ms/step - loss: 0.0871 - acc: 0.9766 - val_loss: 0.2508 - val_acc: 0.9566\n",
      "Epoch 40/40\n",
      "1875/1875 [==============================] - 3s 2ms/step - loss: 0.0743 - acc: 0.9789 - val_loss: 0.2787 - val_acc: 0.9532\n",
      "313/313 [==============================] - 0s 1ms/step - loss: 0.2787 - acc: 0.9532\n",
      "Accuracy: 95.32%\n"
     ]
    }
   ],
   "source": [
    "#Train the model to check for the final accuracy\n",
    "model.fit(x_train, y_train, validation_data = (x_test, y_test), epochs=40, \n",
    "batch_size=32)\n",
    "score = model.evaluate(x_test, y_test)\n",
    "print('Accuracy: {0:.2f}%'.format(score[1]*100))"
   ]
  },
  {
   "cell_type": "code",
   "execution_count": 12,
   "id": "2e11b6c2",
   "metadata": {},
   "outputs": [
    {
     "data": {
      "text/plain": [
       "2204.126357539422"
      ]
     },
     "execution_count": 12,
     "metadata": {},
     "output_type": "execute_result"
    }
   ],
   "source": [
    "distance.euclidean(x_test[0], x_train[0])   "
   ]
  },
  {
   "cell_type": "code",
   "execution_count": 13,
   "id": "585a76f0",
   "metadata": {},
   "outputs": [
    {
     "data": {
      "text/plain": [
       "2536.5214369289292"
      ]
     },
     "execution_count": 13,
     "metadata": {},
     "output_type": "execute_result"
    }
   ],
   "source": [
    "distance.euclidean(x_test[1], x_train[1])   "
   ]
  },
  {
   "cell_type": "code",
   "execution_count": 14,
   "id": "dfa3800e",
   "metadata": {},
   "outputs": [
    {
     "data": {
      "text/plain": [
       "1909.3464850571256"
      ]
     },
     "execution_count": 14,
     "metadata": {},
     "output_type": "execute_result"
    }
   ],
   "source": [
    "distance.euclidean(x_test[2], x_train[2])   "
   ]
  },
  {
   "cell_type": "code",
   "execution_count": 15,
   "id": "8ca6c3ed",
   "metadata": {},
   "outputs": [
    {
     "data": {
      "text/plain": [
       "2942.6883966876276"
      ]
     },
     "execution_count": 15,
     "metadata": {},
     "output_type": "execute_result"
    }
   ],
   "source": [
    "distance.euclidean(x_test[3], x_train[3])   "
   ]
  },
  {
   "cell_type": "code",
   "execution_count": 16,
   "id": "1a83ed6e",
   "metadata": {},
   "outputs": [
    {
     "data": {
      "text/plain": [
       "2154.393882278726"
      ]
     },
     "execution_count": 16,
     "metadata": {},
     "output_type": "execute_result"
    }
   ],
   "source": [
    "distance.euclidean(x_test[4], x_train[4])   "
   ]
  },
  {
   "cell_type": "code",
   "execution_count": 17,
   "id": "d5a7f02a",
   "metadata": {},
   "outputs": [
    {
     "data": {
      "image/png": "[encoded data removed]",
      "text/plain": [
       "<Figure size 432x288 with 1 Axes>"
      ]
     },
     "metadata": {
      "needs_background": "light"
     },
     "output_type": "display_data"
    },
    {
     "name": "stdout",
     "output_type": "stream",
     "text": [
      "Prediction: 0\n"
     ]
    }
   ],
   "source": [
    "#Ploting some test images\n",
    "image = 3\n",
    "plt.imshow(x_test[image].reshape(28, 28), cmap=plt.get_cmap('gray'))\n",
    "plt.show()\n",
    "y_pred = model.predict(x_test)\n",
    "print('Prediction: {0}'.format(np.argmax(y_pred[image])))"
   ]
  },
  {
   "cell_type": "code",
   "execution_count": 18,
   "id": "35e0b52a",
   "metadata": {},
   "outputs": [
    {
     "data": {
      "image/png": "[encoded data removed]",
      "text/plain": [
       "<Figure size 432x288 with 1 Axes>"
      ]
     },
     "metadata": {
      "needs_background": "light"
     },
     "output_type": "display_data"
    },
    {
     "name": "stdout",
     "output_type": "stream",
     "text": [
      "Prediction: 8\n"
     ]
    }
   ],
   "source": [
    "#Testing an incorrect prediction\n",
    "incorrect_indices = np.nonzero(np.argmax(y_pred,axis=1) != np.argmax(y_test,axis=1))[0]\n",
    "image = 4\n",
    "plt.imshow(x_test[incorrect_indices[image]].reshape(28,28), cmap=plt.get_cmap('gray'))\n",
    "plt.show()\n",
    "print('Prediction: {0}'.format(np.argmax(y_pred[incorrect_indices[image]])))"
   ]
  },
  {
   "cell_type": "code",
   "execution_count": 19,
   "id": "231ddd6e",
   "metadata": {},
   "outputs": [
    {
     "data": {
      "image/png": "[encoded data removed]",
      "text/plain": [
       "<Figure size 432x288 with 1 Axes>"
      ]
     },
     "metadata": {
      "needs_background": "light"
     },
     "output_type": "display_data"
    },
    {
     "name": "stdout",
     "output_type": "stream",
     "text": [
      "Prediction: 9\n"
     ]
    }
   ],
   "source": [
    "#Testing an incorrect prediction\n",
    "incorrect_indices = np.nonzero(np.argmax(y_pred,axis=1) != np.argmax(y_test,axis=1))[0]\n",
    "image = 9\n",
    "plt.imshow(x_test[incorrect_indices[image]].reshape(28,28), cmap=plt.get_cmap('gray'))\n",
    "plt.show()\n",
    "print('Prediction: {0}'.format(np.argmax(y_pred[incorrect_indices[image]])))"
   ]
  },
  {
   "cell_type": "code",
   "execution_count": 20,
   "id": "4adfd84f",
   "metadata": {},
   "outputs": [
    {
     "name": "stdout",
     "output_type": "stream",
     "text": [
      "k=1, accuracy=96.91%\n",
      "k=3, accuracy=96.95%\n",
      "k=5, accuracy=96.60%\n",
      "k=7, accuracy=96.55%\n",
      "k=9, accuracy=96.19%\n",
      "k=11, accuracy=96.10%\n",
      "k=13, accuracy=95.85%\n",
      "k=15, accuracy=95.73%\n",
      "k=17, accuracy=95.71%\n",
      "k=19, accuracy=95.64%\n",
      "k=21, accuracy=95.57%\n",
      "k=23, accuracy=95.54%\n",
      "k=25, accuracy=95.33%\n",
      "k=27, accuracy=95.20%\n",
      "k=29, accuracy=95.08%\n"
     ]
    }
   ],
   "source": [
    "#Obtaining the k-Nearest Neighbor\n",
    "accuracies = []\n",
    "\n",
    "for k in range(1, 30, 2):\n",
    "    # train the k-Nearest Neighbor classifier with the current value of `k`\n",
    "    model = KNeighborsClassifier(n_neighbors=k)\n",
    "    model.fit(x_train, y_train)\n",
    "\n",
    "    # evaluate the model and update the accuracies list\n",
    "    score = model.score(x_test, y_test)\n",
    "    print(\"k=%d, accuracy=%.2f%%\" % (k, score * 100))\n",
    "    accuracies.append(score)"
   ]
  },
  {
   "cell_type": "code",
   "execution_count": null,
   "id": "4ebb961c",
   "metadata": {},
   "outputs": [],
   "source": []
  }
 ],
 "metadata": {
  "kernelspec": {
   "display_name": "Python 3",
   "language": "python",
   "name": "python3"
  },
  "language_info": {
   "codemirror_mode": {
    "name": "ipython",
    "version": 3
   },
   "file_extension": ".py",
   "mimetype": "text/x-python",
   "name": "python",
   "nbconvert_exporter": "python",
   "pygments_lexer": "ipython3",
   "version": "3.8.8"
  },
  "toc": {
   "base_numbering": 1,
   "nav_menu": {},
   "number_sections": true,
   "sideBar": true,
   "skip_h1_title": false,
   "title_cell": "Table of Contents",
   "title_sidebar": "Contents",
   "toc_cell": false,
   "toc_position": {},
   "toc_section_display": true,
   "toc_window_display": false
  }
 },
 "nbformat": 4,
 "nbformat_minor": 5
}
